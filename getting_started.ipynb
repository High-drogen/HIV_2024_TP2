{
 "cells": [
  {
   "cell_type": "code",
   "execution_count": 1,
   "metadata": {},
   "outputs": [],
   "source": [
    "from cgi_decode import cgi_decode\n",
    "from poly_fuzzer.common.abstract_executor import AbstractExecutor\n",
    "from poly_fuzzer.fuzzers.random_fuzzer import RandomFuzzer \n",
    "from poly_fuzzer.fuzzers.mutation_fuzzer import MutationFuzzer\n",
    "from poly_fuzzer.common.abstract_seed import AbstractSeed\n",
    "from poly_fuzzer.power_schedules.abstract_power_schedule import AbstractPowerSchedule\n",
    "from poly_fuzzer.common.abstract_grammar import AbstractGrammar\n",
    "from urllib.parse import urlparse\n",
    "from html.parser import HTMLParser"
   ]
  },
  {
   "cell_type": "markdown",
   "metadata": {},
   "source": [
    "### Generating random string with Random fuzzer for cgi_decode\n",
    "Here is an example of how you can use the Random fuzzer to generate random strings for the cgi_decode function.\n",
    "We only need to specify the executor object (the module to calculate the coverage of the program as it is being executed) to initialize the random fuzzer. Inside Random fuzzer we need to implement two functions: ```generate_input``` and ```_update```. We leave the ```_update``` function empty as we don't need to update the fuzzer based on the achieved coverage."
   ]
  },
  {
   "cell_type": "code",
   "execution_count": 2,
   "metadata": {},
   "outputs": [
    {
     "name": "stdout",
     "output_type": "stream",
     "text": [
      "{'coverage': [35, 37, 37, 37, 37, 37, 37, 37, 39, 39], 'inputs': ['!D%$~jE.I,/oa]43N:;N>P1`g]gxCR?Z=2i{xnZnM]@O*hQH80OzVXRH=\";BFg1(fX\"^I[&E9e;Ouco}F^&Ov#Dz_p', 'GZgs~I^FgjJq@wTY=M-|xNETJGivsF6@T:o0RK<)sJ-;p!t...LfljKccjo9mg9QD,33*z3a;`2]^E\"q2[y+uQE7fKywX3', \"641oNzzE5*n%Jx)pz_ifkn@B+[Hll,:uH~<.Z/QexE)eI8A<B;A-/<+|?XfW+_j,sz'4|&az%G2ub8:.R.R|g2v+;5IJ]f\", '0Kxt!V6rv7)7)pm6aN9NzF$yd!WC:*78C\"x{u.so_/]U\\'f\\\\t07k:4-v7W_/MVc_-=a@2^a7.+pb#qMb+VLZ\\'+8Mw,$', \"@Z:e}-Iq^pL{Hoooy,Gq>FVacvsr%tLcMtpp}ST]ks?f/HFwL%TH?06.w*FmmD0C&LB`%D'_>}k,X^lqKoMAQ1*<0B`zt\\\\6aK\", '9!p`SZ]SVJ=>8G\"~yc:YUH}WduKYCyEWkJ%\"Bto$XyI\"J70IDJ@Q7ZnH+5,SMg|,*>{$`FiySUig)5R+Q7^iH*&Yn$Fq:O', 'iMxfwI2Y\"b;%diZzrA7dk3ObN/4Se_$wZb}[=\\\\Z_^Zi^=-x\\\\itUy>-#41hTa8n(`In-\"i#@\\'FQrED@6Aol;\"uD=G1*', \"KTfU[xT6-vC&Byz%TLt[OthHU&L<a`,%bl}?wo':tWB[Ox*o%3yu&Q4_(JO9<>6@UiGx?z^Kf=KDM4W\\\\9oY%TVy}s[)[4C2~\", 'vBo^\\\\sHeNL\"wPN)M]jXY+\",$zFs~hJ1A6^!^xbBY)Phy^eh2z0D%85m_d\\'#gE\\\\`>i0RJ>N*(ODDN!>Y\\'e}=9\\\\sygF\\'1<YV4', 't~TG54~>cDn;8`O4wsRd2pdc_-a)r.5zJ>qcK^2Ru&/w4Fob\\\\a|\\\\eFTO!:%RtWq\\'jdfq+\\\\ZW<R\"`h\\'B027@sSKhXFz'], 'execution_times': [0.2910184860229492, 0.04028725624084473, 0.009990692138671875, 0.04462575912475586, 0.014015913009643555, 0.016002416610717773, 0.008136987686157227, 0.01024627685546875, 0.04037189483642578, 0.02400517463684082], 'exceptions': 7}\n"
     ]
    }
   ],
   "source": [
    "def test_cgi_decode(test_module):\n",
    "    executor = AbstractExecutor(test_module)\n",
    "    fuzzer = RandomFuzzer(executor)\n",
    "    output = fuzzer.run_fuzzer(budget=10)  # Example time budget of 10 inputs\n",
    "    assert output is not None\n",
    "    print(output)\n",
    "\n",
    "test_cgi_decode(cgi_decode) "
   ]
  },
  {
   "cell_type": "markdown",
   "metadata": {},
   "source": [
    "You should observe the ouput of the fuzzer after 10 generated inputs. The output includes such information as the number of covered lines achieved by each input, the relative coverage achieved, the inputs used, the time taken to generate the inputs, and the number of exceptions raised during the generation of the inputs."
   ]
  },
  {
   "cell_type": "markdown",
   "metadata": {},
   "source": [
    "### Generating random urls with Mutation fuzzer for the ```urllib.parse.urlparse``` module\n",
    "Here is an example of how you can use the Mutation fuzzer to generate random urls for the ```urllib.parse.urlparse``` module. The mutation fuzzer requires the executor object as well as the Seed objects to be initialized. The seeds are then modified with random mutations to generate new inputs. The mutation fuzzer also requires the ```_update``` function to be implemented. This function is used to update the fuzzer based on the coverage achieved by the inputs."
   ]
  },
  {
   "cell_type": "code",
   "execution_count": 5,
   "metadata": {},
   "outputs": [
    {
     "name": "stdout",
     "output_type": "stream",
     "text": [
      "{'coverage': [24, 24, 37, 37, 37, 37, 37, 37, 40, 40], 'inputs': ['www.google.com', 'www.polymtl.ca', 'wwk.polymtl.ca', 'wwk.polymtl.ca', 'ww9Fpuymtl.ca', 'wwk.5o{mt(.c', 'wgoog.}[', 'www.googl.co', 'www.polym-l.ca', 'www.polym-l.ca'], 'execution_times': [0.009056329727172852, 0.006001472473144531, 0.009129047393798828, 0.00613093376159668, 0.009397506713867188, 0.009515047073364258, 0.009201526641845703, 0.0093231201171875, 0.009458780288696289, 0.006075382232666016], 'exceptions': 0}\n"
     ]
    }
   ],
   "source": [
    "def test_fuzzer(test_module):\n",
    "    executor = AbstractExecutor(test_module)\n",
    "    seeds = [AbstractSeed(\"www.google.com\"), AbstractSeed(\"www.polymtl.ca\")]\n",
    "    fuzzer = MutationFuzzer(executor, seeds)\n",
    "\n",
    "    output = fuzzer.run_fuzzer(budget=10)  # Example time budget of 5 seconds\n",
    "    \n",
    "    assert output is not None\n",
    "    print(output)\n",
    "\n",
    "test_fuzzer(urlparse)"
   ]
  },
  {
   "cell_type": "markdown",
   "metadata": {},
   "source": [
    "Here an example of adding a power schedule to the mutation fuzzer is also shown. The power schedule is used to prioritize the inputs that achieve higher coverage. In the current example this schedule assigns equal weights to all the seeds. You should implement a power schedule that considers the size of the inputs, their execution time, and achieved coverage to prioritize the inputs (combine coverage with one more criteria)."
   ]
  },
  {
   "cell_type": "code",
   "execution_count": 6,
   "metadata": {},
   "outputs": [
    {
     "name": "stdout",
     "output_type": "stream",
     "text": [
      "{'coverage': [36, 36, 36, 36, 36, 36, 36, 36, 40, 41], 'inputs': ['www.google.com', 'www.polymtl.ca', 'owwxolymtl.ca', 'S8wg<ogl.od', 'lww.gogleqom', 'www.{oog(e.com', 'ww.google.com', 'w\\\\.2oCg<e.co', 'ww`googl;.[om', 'ww`googl;.[om'], 'execution_times': [0.0110015869140625, 0.010179758071899414, 0.009395599365234375, 0.01000833511352539, 0.012602090835571289, 0.011003494262695312, 0.01100301742553711, 0.011001825332641602, 0.013003349304199219, 0.0069997310638427734], 'exceptions': 0}\n"
     ]
    }
   ],
   "source": [
    "def test_fuzzer(test_module):\n",
    "    executor = AbstractExecutor(test_module)\n",
    "    powerschedule = AbstractPowerSchedule()\n",
    "    seeds = [AbstractSeed(\"www.google.com\"), AbstractSeed(\"www.polymtl.ca\")]\n",
    "    fuzzer = MutationFuzzer(executor, seeds, powerschedule)\n",
    "\n",
    "    output = fuzzer.run_fuzzer(budget=10)  # Example time budget of 5 seconds\n",
    "    \n",
    "    assert output is not None\n",
    "    print(output)\n",
    "\n",
    "test_fuzzer(urlparse)"
   ]
  },
  {
   "cell_type": "markdown",
   "metadata": {},
   "source": [
    "### Generating random html code with mutation fuzzer for the ```html.parser.HTMLParser.feed``` module\n",
    "It takes the same arguments as the previous example. "
   ]
  },
  {
   "cell_type": "code",
   "execution_count": 9,
   "metadata": {},
   "outputs": [
    {
     "name": "stdout",
     "output_type": "stream",
     "text": [
      "{'coverage': [68, 68, 68, 75, 75, 75, 78, 78, 78, 88], 'inputs': ['<html><head><title>Test</title></head>', '<body><h1>Parse me!</h1></body></html>', '<body><h1>PNrse me</h1></boy></html>', '<bodyc<h1>Parse me!</Q1></bodyzx/htm >', '<bodyc<h1>Parse me!</Q1></bodyzx/htm >', '<body><h1>Parse me!</h1=</body></html>', 'bzy<h1>Parse me!/h1 /boky></tml', 'bzy<h1>Parse me!/h1 /boky></tml', '<html><head>ieaTest</ttle></hea!>', '<html><hea=>tiBle>T(^t<title></6&a>'], 'execution_times': [0.022034406661987305, 0.02127242088317871, 0.019811391830444336, 0.012666702270507812, 0.012487411499023438, 0.016331911087036133, 0.008004426956176758, 0.005997419357299805, 0.014002799987792969, 0.01701068878173828], 'exceptions': 0}\n"
     ]
    }
   ],
   "source": [
    "def test_fuzzer(test_module):\n",
    "    executor = AbstractExecutor(test_module)\n",
    "    powerschedule = AbstractPowerSchedule()\n",
    "    seeds =     seeds = [AbstractSeed(\"<html><head><title>Test</title></head>\"), AbstractSeed(\"<body><h1>Parse me!</h1></body></html>\")]\n",
    "    fuzzer = MutationFuzzer(executor, seeds, powerschedule)\n",
    "\n",
    "    output = fuzzer.run_fuzzer(budget=10)  # Example time budget of 5 seconds\n",
    "    \n",
    "    assert output is not None\n",
    "    print(output)\n",
    "\n",
    "test_fuzzer(HTMLParser().feed)"
   ]
  },
  {
   "cell_type": "markdown",
   "metadata": {},
   "source": [
    "### Using Grammar to generate seeds\n",
    "Generating html code manually is a tedious task. One solution is to define Grammar that would allow us to generate valid html code automatically. Below we provide an example of how to create Grammar to generate valid US numbers. Your task is to create Grammar to generate valid html code and use it to generate seeds for the mutation fuzzer. \n",
    "You should also create grammar for the ```cgi_decode``` function as well as the ```urllib.parse.urlparse```."
   ]
  },
  {
   "cell_type": "code",
   "execution_count": 12,
   "metadata": {},
   "outputs": [
    {
     "name": "stdout",
     "output_type": "stream",
     "text": [
      "(952)707-4988\n"
     ]
    }
   ],
   "source": [
    "gram = {\n",
    "\"<start>\": [\"<phone-number>\"],\n",
    "\"<phone-number>\": [\"(<area>)<exchange>-<line>\"],\n",
    "\"<area>\": [\"<lead-digit><digit><digit>\"],\n",
    "\"<exchange>\": [\"<lead-digit><digit><digit>\"],\n",
    "\"<line>\": [\"<digit><digit><digit><digit>\"],\n",
    "\"<lead-digit>\": [\"2\", \"3\", \"4\", \"5\", \"6\", \"7\", \"8\", \"9\"],\n",
    "\"<digit>\": [\"0\", \"1\", \"2\", \"3\", \"4\", \"5\", \"6\", \"7\", \"8\", \"9\"]\n",
    "}\n",
    "grammar = AbstractGrammar(gram)\n",
    "\n",
    "html_input = grammar.generate_input()\n",
    "\n",
    "print(html_input)"
   ]
  },
  {
   "cell_type": "markdown",
   "metadata": {},
   "source": [
    "You task is to implement the following modules:\n",
    "- ```test_cgi_decode``` for the Mutation fuzzer for the ```cgi_decode``` function\n",
    "- ```test_urlparse``` for the Mutation fuzzer for the ```urllib.parse.urlparse``` module\n",
    "- ```test_feed``` for the Mutation fuzzer for the ```html.parser.HTMLParser.feed``` module"
   ]
  }
 ],
 "metadata": {
  "kernelspec": {
   "display_name": "lab2",
   "language": "python",
   "name": "python3"
  },
  "language_info": {
   "codemirror_mode": {
    "name": "ipython",
    "version": 3
   },
   "file_extension": ".py",
   "mimetype": "text/x-python",
   "name": "python",
   "nbconvert_exporter": "python",
   "pygments_lexer": "ipython3",
   "version": "3.9.18"
  }
 },
 "nbformat": 4,
 "nbformat_minor": 2
}
